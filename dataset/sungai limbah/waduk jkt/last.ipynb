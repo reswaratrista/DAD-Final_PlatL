{
 "cells": [
  {
   "cell_type": "code",
   "execution_count": 9,
   "metadata": {},
   "outputs": [],
   "source": [
    "import pandas as pd"
   ]
  },
  {
   "cell_type": "code",
   "execution_count": 10,
   "metadata": {},
   "outputs": [
    {
     "name": "stdout",
     "output_type": "stream",
     "text": [
      "<class 'pandas.core.frame.DataFrame'>\n",
      "RangeIndex: 547 entries, 0 to 546\n",
      "Data columns (total 4 columns):\n",
      " #   Column                     Non-Null Count  Dtype  \n",
      "---  ------                     --------------  -----  \n",
      " 0   bulan                      547 non-null    int64  \n",
      " 1   tanggal                    547 non-null    int64  \n",
      " 2   volume_sampah_perhari(m3)  547 non-null    float64\n",
      " 3   tahun                      547 non-null    int64  \n",
      "dtypes: float64(1), int64(3)\n",
      "memory usage: 17.2 KB\n"
     ]
    }
   ],
   "source": [
    "df = pd.read_csv('volume_gabung.csv')\n",
    "df.info()"
   ]
  },
  {
   "cell_type": "code",
   "execution_count": 11,
   "metadata": {},
   "outputs": [
    {
     "name": "stdout",
     "output_type": "stream",
     "text": [
      "    tahun  bulan  volume_sampah_perhari(m3)\n",
      "0    2020      1                   55486.10\n",
      "1    2020      2                   72055.76\n",
      "2    2020      3                   78819.66\n",
      "3    2020      4                   72595.75\n",
      "4    2020      5                   72820.01\n",
      "5    2020      6                   78389.13\n",
      "6    2020      7                   81368.01\n",
      "7    2020      8                   59777.08\n",
      "8    2020      9                   68263.56\n",
      "9    2020     10                   70634.78\n",
      "10   2020     11                   71139.46\n",
      "11   2020     12                   78578.73\n",
      "12   2021      1                  150661.97\n",
      "13   2021      2                   87011.20\n",
      "14   2021      3                   85470.21\n",
      "15   2021      4                   84565.90\n",
      "16   2021      5                   80801.15\n",
      "17   2021      6                   81274.00\n"
     ]
    }
   ],
   "source": [
    "df_grouped = df.groupby(['tahun', 'bulan'])['volume_sampah_perhari(m3)'].sum().reset_index()\n",
    "print(df_grouped)"
   ]
  }
 ],
 "metadata": {
  "kernelspec": {
   "display_name": "Python 3",
   "language": "python",
   "name": "python3"
  },
  "language_info": {
   "codemirror_mode": {
    "name": "ipython",
    "version": 3
   },
   "file_extension": ".py",
   "mimetype": "text/x-python",
   "name": "python",
   "nbconvert_exporter": "python",
   "pygments_lexer": "ipython3",
   "version": "3.9.13"
  }
 },
 "nbformat": 4,
 "nbformat_minor": 2
}
