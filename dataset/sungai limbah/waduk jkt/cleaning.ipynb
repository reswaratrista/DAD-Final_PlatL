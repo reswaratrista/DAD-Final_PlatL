{
 "cells": [
  {
   "cell_type": "code",
   "execution_count": 506,
   "metadata": {},
   "outputs": [],
   "source": [
    "import pandas as pd"
   ]
  },
  {
   "cell_type": "code",
   "execution_count": 507,
   "metadata": {},
   "outputs": [],
   "source": [
    "df = pd.read_csv('volume-pengangkutan-sampah-di-kali-sungai-situ-waduk-bulan-september-tahun-2020.csv', encoding='latin-1', na_values=['-'])"
   ]
  },
  {
   "cell_type": "code",
   "execution_count": 508,
   "metadata": {},
   "outputs": [
    {
     "name": "stdout",
     "output_type": "stream",
     "text": [
      "<class 'pandas.core.frame.DataFrame'>\n",
      "RangeIndex: 51570 entries, 0 to 51569\n",
      "Data columns (total 9 columns):\n",
      " #   Column                     Non-Null Count  Dtype  \n",
      "---  ------                     --------------  -----  \n",
      " 0   bulan                      51570 non-null  int64  \n",
      " 1   titik_lokasi               51570 non-null  object \n",
      " 2   kecamatan                  51570 non-null  object \n",
      " 3   wilayah                    51570 non-null  object \n",
      " 4   panjang/luas               42540 non-null  object \n",
      " 5   satuan_panjang/luas        31050 non-null  object \n",
      " 6   tanggal                    51570 non-null  int64  \n",
      " 7   volume_sampah_perhari(m3)  34995 non-null  float64\n",
      " 8   Unnamed: 8                 1 non-null      float64\n",
      "dtypes: float64(2), int64(2), object(5)\n",
      "memory usage: 3.5+ MB\n"
     ]
    }
   ],
   "source": [
    "df.info()"
   ]
  },
  {
   "cell_type": "code",
   "execution_count": 509,
   "metadata": {},
   "outputs": [
    {
     "name": "stdout",
     "output_type": "stream",
     "text": [
      "<class 'pandas.core.frame.DataFrame'>\n",
      "RangeIndex: 51570 entries, 0 to 51569\n",
      "Data columns (total 3 columns):\n",
      " #   Column                     Non-Null Count  Dtype  \n",
      "---  ------                     --------------  -----  \n",
      " 0   bulan                      51570 non-null  int64  \n",
      " 1   tanggal                    51570 non-null  int64  \n",
      " 2   volume_sampah_perhari(m3)  34995 non-null  float64\n",
      "dtypes: float64(1), int64(2)\n",
      "memory usage: 1.2 MB\n"
     ]
    }
   ],
   "source": [
    "df = df.drop(df.columns[[1, 2, 3, 4, 5, 8]], axis=1)\n",
    "df.info()"
   ]
  },
  {
   "cell_type": "code",
   "execution_count": 510,
   "metadata": {},
   "outputs": [
    {
     "name": "stdout",
     "output_type": "stream",
     "text": [
      "<class 'pandas.core.frame.DataFrame'>\n",
      "Int64Index: 34995 entries, 0 to 51565\n",
      "Data columns (total 3 columns):\n",
      " #   Column                     Non-Null Count  Dtype  \n",
      "---  ------                     --------------  -----  \n",
      " 0   bulan                      34995 non-null  int64  \n",
      " 1   tanggal                    34995 non-null  int64  \n",
      " 2   volume_sampah_perhari(m3)  34995 non-null  float64\n",
      "dtypes: float64(1), int64(2)\n",
      "memory usage: 1.1 MB\n",
      "       bulan  tanggal  volume_sampah_perhari(m3)\n",
      "0          9        1                        2.0\n",
      "1          9        1                        2.0\n",
      "2          9        1                        3.0\n",
      "3          9        1                        2.0\n",
      "4          9        1                        5.0\n",
      "...      ...      ...                        ...\n",
      "51559      9       30                        1.0\n",
      "51562      9       30                        4.0\n",
      "51563      9       30                        4.0\n",
      "51564      9       30                        4.0\n",
      "51565      9       30                        4.0\n",
      "\n",
      "[34995 rows x 3 columns]\n"
     ]
    }
   ],
   "source": [
    "df = df.dropna()\n",
    "df.info()\n",
    "print(df)"
   ]
  },
  {
   "cell_type": "code",
   "execution_count": 511,
   "metadata": {},
   "outputs": [],
   "source": [
    "# df = df.reset_index(drop=True)\n",
    "# # df = df.dropna(subset=['volume_sampah_perhari(m3)'])\n",
    "# rows_with_empty_values = df[df['volume_sampah_perhari(m3)'].str.strip() == '.']\n",
    "# print(rows_with_empty_values)\n",
    "# df.to_csv('waduk_temp.csv', index=False)"
   ]
  },
  {
   "cell_type": "code",
   "execution_count": 512,
   "metadata": {},
   "outputs": [],
   "source": [
    "# df = pd.read_csv('waduk_temp.csv')"
   ]
  },
  {
   "cell_type": "code",
   "execution_count": 513,
   "metadata": {},
   "outputs": [
    {
     "name": "stdout",
     "output_type": "stream",
     "text": [
      "<class 'pandas.core.frame.DataFrame'>\n",
      "RangeIndex: 30 entries, 0 to 29\n",
      "Data columns (total 3 columns):\n",
      " #   Column                     Non-Null Count  Dtype  \n",
      "---  ------                     --------------  -----  \n",
      " 0   bulan                      30 non-null     int64  \n",
      " 1   tanggal                    30 non-null     int64  \n",
      " 2   volume_sampah_perhari(m3)  30 non-null     float64\n",
      "dtypes: float64(1), int64(2)\n",
      "memory usage: 848.0 bytes\n",
      "    bulan  tanggal  volume_sampah_perhari(m3)\n",
      "0       9        1                    2179.96\n",
      "1       9        2                    2266.12\n",
      "2       9        3                    1968.60\n",
      "3       9        4                    1971.20\n",
      "4       9        5                    1943.74\n",
      "5       9        6                    2164.68\n",
      "6       9        7                    2056.20\n",
      "7       9        8                    1939.50\n",
      "8       9        9                    2000.00\n",
      "9       9       10                    2108.64\n",
      "10      9       11                    2178.78\n",
      "11      9       12                    1914.48\n",
      "12      9       13                     891.50\n",
      "13      9       14                    1264.32\n",
      "14      9       15                    2665.30\n",
      "15      9       16                    2741.24\n",
      "16      9       17                    2588.72\n",
      "17      9       18                    2314.62\n",
      "18      9       19                    2224.64\n",
      "19      9       20                    1926.88\n",
      "20      9       21                    2319.70\n",
      "21      9       22                    5250.28\n",
      "22      9       23                    2829.52\n",
      "23      9       24                    2434.40\n",
      "24      9       25                    2484.26\n",
      "25      9       26                    2596.42\n",
      "26      9       27                    2037.98\n",
      "27      9       28                    2458.28\n",
      "28      9       29                    2313.90\n",
      "29      9       30                    2229.70\n"
     ]
    }
   ],
   "source": [
    "df['volume_sampah_perhari(m3)'] = df['volume_sampah_perhari(m3)'].astype(float)\n",
    "df = df.groupby(['bulan', 'tanggal'])['volume_sampah_perhari(m3)'].sum().reset_index()\n",
    "df.info()\n",
    "print(df)"
   ]
  },
  {
   "cell_type": "code",
   "execution_count": 514,
   "metadata": {},
   "outputs": [
    {
     "name": "stdout",
     "output_type": "stream",
     "text": [
      "<class 'pandas.core.frame.DataFrame'>\n",
      "RangeIndex: 30 entries, 0 to 29\n",
      "Data columns (total 4 columns):\n",
      " #   Column                     Non-Null Count  Dtype  \n",
      "---  ------                     --------------  -----  \n",
      " 0   bulan                      30 non-null     int64  \n",
      " 1   tanggal                    30 non-null     int64  \n",
      " 2   volume_sampah_perhari(m3)  30 non-null     float64\n",
      " 3   tahun                      30 non-null     int64  \n",
      "dtypes: float64(1), int64(3)\n",
      "memory usage: 1.1 KB\n"
     ]
    }
   ],
   "source": [
    "df['tahun'] = 2020\n",
    "df.info()"
   ]
  },
  {
   "cell_type": "code",
   "execution_count": 515,
   "metadata": {},
   "outputs": [],
   "source": [
    "df.to_csv('waduk_temp.csv', index=False)"
   ]
  },
  {
   "cell_type": "code",
   "execution_count": null,
   "metadata": {},
   "outputs": [],
   "source": []
  },
  {
   "cell_type": "code",
   "execution_count": 517,
   "metadata": {},
   "outputs": [
    {
     "name": "stdout",
     "output_type": "stream",
     "text": [
      "547\n"
     ]
    }
   ],
   "source": [
    "print((31*2) + 29 + 28 + (31*2) + (30*2) + (31*2) + (30*2) + 31 + 31+ 30 + 31+30+31)"
   ]
  }
 ],
 "metadata": {
  "kernelspec": {
   "display_name": "Python 3",
   "language": "python",
   "name": "python3"
  },
  "language_info": {
   "codemirror_mode": {
    "name": "ipython",
    "version": 3
   },
   "file_extension": ".py",
   "mimetype": "text/x-python",
   "name": "python",
   "nbconvert_exporter": "python",
   "pygments_lexer": "ipython3",
   "version": "3.9.13"
  }
 },
 "nbformat": 4,
 "nbformat_minor": 2
}
