{
 "cells": [
  {
   "cell_type": "code",
   "execution_count": 109,
   "metadata": {},
   "outputs": [],
   "source": [
    "import pandas as pd"
   ]
  },
  {
   "cell_type": "code",
   "execution_count": 110,
   "metadata": {},
   "outputs": [
    {
     "name": "stdout",
     "output_type": "stream",
     "text": [
      "<class 'pandas.core.frame.DataFrame'>\n",
      "RangeIndex: 52576 entries, 0 to 52575\n",
      "Data columns (total 8 columns):\n",
      " #   Column                     Non-Null Count  Dtype  \n",
      "---  ------                     --------------  -----  \n",
      " 0   bulan                      52576 non-null  int64  \n",
      " 1    titik_lokasi              52576 non-null  object \n",
      " 2    kecamatan                 52576 non-null  object \n",
      " 3    wilayah                   52576 non-null  object \n",
      " 4    panjang/luas              42780 non-null  object \n",
      " 5   satuan_panjang/luas        31372 non-null  object \n",
      " 6   tanggal                    52576 non-null  int64  \n",
      " 7   volume_sampah_perhari(m3)  34671 non-null  float64\n",
      "dtypes: float64(1), int64(2), object(5)\n",
      "memory usage: 3.2+ MB\n"
     ]
    }
   ],
   "source": [
    "df = pd.read_csv('volume-pengangkutan-sampah-di-kali-sungai-situ-waduk-bulan-agustus-tahun-2020.csv', encoding='latin-1', na_values=['-'])\n",
    "df.info()"
   ]
  },
  {
   "cell_type": "code",
   "execution_count": 111,
   "metadata": {},
   "outputs": [
    {
     "name": "stdout",
     "output_type": "stream",
     "text": [
      "<class 'pandas.core.frame.DataFrame'>\n",
      "RangeIndex: 52576 entries, 0 to 52575\n",
      "Data columns (total 3 columns):\n",
      " #   Column                     Non-Null Count  Dtype  \n",
      "---  ------                     --------------  -----  \n",
      " 0   bulan                      52576 non-null  int64  \n",
      " 1   tanggal                    52576 non-null  int64  \n",
      " 2   volume_sampah_perhari(m3)  34671 non-null  float64\n",
      "dtypes: float64(1), int64(2)\n",
      "memory usage: 1.2 MB\n"
     ]
    }
   ],
   "source": [
    "df = df.drop(df.columns[[1, 2, 3, 4, 5]], axis=1)\n",
    "df.info()"
   ]
  },
  {
   "cell_type": "code",
   "execution_count": 112,
   "metadata": {},
   "outputs": [
    {
     "name": "stdout",
     "output_type": "stream",
     "text": [
      "<class 'pandas.core.frame.DataFrame'>\n",
      "Int64Index: 34671 entries, 0 to 52571\n",
      "Data columns (total 3 columns):\n",
      " #   Column                     Non-Null Count  Dtype  \n",
      "---  ------                     --------------  -----  \n",
      " 0   bulan                      34671 non-null  int64  \n",
      " 1   tanggal                    34671 non-null  int64  \n",
      " 2   volume_sampah_perhari(m3)  34671 non-null  float64\n",
      "dtypes: float64(1), int64(2)\n",
      "memory usage: 1.1 MB\n",
      "       bulan  tanggal  volume_sampah_perhari(m3)\n",
      "0          8        1                        1.0\n",
      "1          8        1                        1.0\n",
      "2          8        1                        1.0\n",
      "3          8        1                        1.0\n",
      "4          8        1                        4.0\n",
      "...      ...      ...                        ...\n",
      "52566      8       31                        3.0\n",
      "52567      8       31                        3.0\n",
      "52569      8       31                        8.0\n",
      "52570      8       31                        7.0\n",
      "52571      8       31                        7.0\n",
      "\n",
      "[34671 rows x 3 columns]\n"
     ]
    }
   ],
   "source": [
    "df = df.dropna()\n",
    "df.info()\n",
    "print(df)"
   ]
  },
  {
   "cell_type": "code",
   "execution_count": 113,
   "metadata": {},
   "outputs": [],
   "source": [
    "df['volume_sampah_perhari(m3)'] = df['volume_sampah_perhari(m3)'].astype(float)"
   ]
  },
  {
   "cell_type": "code",
   "execution_count": 114,
   "metadata": {},
   "outputs": [],
   "source": [
    "df = df.groupby(['bulan', 'tanggal'])['volume_sampah_perhari(m3)'].sum().reset_index()"
   ]
  },
  {
   "cell_type": "code",
   "execution_count": 115,
   "metadata": {},
   "outputs": [
    {
     "name": "stdout",
     "output_type": "stream",
     "text": [
      "<class 'pandas.core.frame.DataFrame'>\n",
      "RangeIndex: 31 entries, 0 to 30\n",
      "Data columns (total 3 columns):\n",
      " #   Column                     Non-Null Count  Dtype  \n",
      "---  ------                     --------------  -----  \n",
      " 0   bulan                      31 non-null     int64  \n",
      " 1   tanggal                    31 non-null     int64  \n",
      " 2   volume_sampah_perhari(m3)  31 non-null     float64\n",
      "dtypes: float64(1), int64(2)\n",
      "memory usage: 872.0 bytes\n",
      "    bulan  tanggal  volume_sampah_perhari(m3)\n",
      "0       8        1                    1595.40\n",
      "1       8        2                    1726.14\n",
      "2       8        3                    1749.74\n",
      "3       8        4                    1763.78\n",
      "4       8        5                    1907.48\n",
      "5       8        6                    2040.16\n",
      "6       8        7                    1813.26\n",
      "7       8        8                    1707.42\n",
      "8       8        9                    2058.38\n",
      "9       8       10                    1970.88\n",
      "10      8       11                    1985.12\n",
      "11      8       12                    2157.42\n",
      "12      8       13                    1428.50\n",
      "13      8       14                    2735.00\n",
      "14      8       15                    2503.86\n",
      "15      8       16                    1982.64\n",
      "16      8       17                    2112.10\n",
      "17      8       18                    2218.56\n",
      "18      8       19                    2320.72\n",
      "19      8       20                    1976.26\n",
      "20      8       21                    1815.46\n",
      "21      8       22                    1797.92\n",
      "22      8       23                    1822.98\n",
      "23      8       24                    1823.40\n",
      "24      8       25                    1787.62\n",
      "25      8       26                    2106.98\n",
      "26      8       27                    1907.74\n",
      "27      8       28                    1743.50\n",
      "28      8       29                    1783.28\n",
      "29      8       30                    1746.24\n",
      "30      8       31                    1689.14\n"
     ]
    }
   ],
   "source": [
    "df.info()\n",
    "print(df)"
   ]
  },
  {
   "cell_type": "code",
   "execution_count": 116,
   "metadata": {},
   "outputs": [],
   "source": [
    "df.to_csv('waduk_temp.csv', index=False)"
   ]
  },
  {
   "cell_type": "code",
   "execution_count": 117,
   "metadata": {},
   "outputs": [],
   "source": [
    "df = pd.read_csv('volume-pengangkutan-sampah-di-kali-sungai-situ-waduk-bulan-agustus-tahun-2020.csv', encoding='latin-1', na_values=['-'])"
   ]
  }
 ],
 "metadata": {
  "kernelspec": {
   "display_name": "Python 3",
   "language": "python",
   "name": "python3"
  },
  "language_info": {
   "codemirror_mode": {
    "name": "ipython",
    "version": 3
   },
   "file_extension": ".py",
   "mimetype": "text/x-python",
   "name": "python",
   "nbconvert_exporter": "python",
   "pygments_lexer": "ipython3",
   "version": "3.9.13"
  }
 },
 "nbformat": 4,
 "nbformat_minor": 2
}
