{
 "cells": [
  {
   "cell_type": "code",
   "execution_count": 1,
   "metadata": {},
   "outputs": [],
   "source": [
    "import pandas as pd\n",
    "import matplotlib.pyplot as plt"
   ]
  },
  {
   "cell_type": "code",
   "execution_count": 466,
   "metadata": {},
   "outputs": [],
   "source": [
    "df = pd.read_csv('cleaned_dataset\\data_banjir.csv')\n",
    "df1 = pd.read_csv('cleaned_dataset\\weather_history.csv')"
   ]
  },
  {
   "cell_type": "code",
   "execution_count": 467,
   "metadata": {},
   "outputs": [
    {
     "name": "stdout",
     "output_type": "stream",
     "text": [
      "<class 'pandas.core.frame.DataFrame'>\n",
      "RangeIndex: 6787 entries, 0 to 6786\n",
      "Data columns (total 13 columns):\n",
      " #   Column                  Non-Null Count  Dtype  \n",
      "---  ------                  --------------  -----  \n",
      " 0   Kode Identitas Bencana  5998 non-null   object \n",
      " 1   ID Kabupaten            6787 non-null   int64  \n",
      " 2   Tanggal Kejadian        6787 non-null   object \n",
      " 3   Kejadian                6787 non-null   object \n",
      " 4   Kabupaten               6787 non-null   object \n",
      " 5   Provinsi                6787 non-null   object \n",
      " 6   Penyebab                6787 non-null   object \n",
      " 7   Meninggal               6787 non-null   int64  \n",
      " 8   Hilang                  6787 non-null   int64  \n",
      " 9   Terluka                 6787 non-null   int64  \n",
      " 10  Rumah Rusak             6786 non-null   float64\n",
      " 11  Rumah Terendam          6787 non-null   int64  \n",
      " 12  Fasum Rusak             6787 non-null   int64  \n",
      "dtypes: float64(1), int64(6), object(6)\n",
      "memory usage: 689.4+ KB\n"
     ]
    }
   ],
   "source": [
    "df.info()"
   ]
  },
  {
   "cell_type": "code",
   "execution_count": 468,
   "metadata": {},
   "outputs": [
    {
     "name": "stdout",
     "output_type": "stream",
     "text": [
      "<class 'pandas.core.frame.DataFrame'>\n",
      "RangeIndex: 6787 entries, 0 to 6786\n",
      "Data columns (total 14 columns):\n",
      " #   Column                  Non-Null Count  Dtype  \n",
      "---  ------                  --------------  -----  \n",
      " 0   Kode Identitas Bencana  5998 non-null   object \n",
      " 1   ID Kabupaten            6787 non-null   int64  \n",
      " 2   Tanggal Kejadian        6787 non-null   object \n",
      " 3   Kejadian                6787 non-null   object \n",
      " 4   Kabupaten               6787 non-null   object \n",
      " 5   Provinsi                6787 non-null   object \n",
      " 6   Penyebab                6787 non-null   object \n",
      " 7   Meninggal               6787 non-null   int64  \n",
      " 8   Hilang                  6787 non-null   int64  \n",
      " 9   Terluka                 6787 non-null   int64  \n",
      " 10  Rumah Rusak             6786 non-null   float64\n",
      " 11  Rumah Terendam          6787 non-null   int64  \n",
      " 12  Fasum Rusak             6787 non-null   int64  \n",
      " 13  Kejadian Banjir         6787 non-null   int64  \n",
      "dtypes: float64(1), int64(7), object(6)\n",
      "memory usage: 742.5+ KB\n"
     ]
    }
   ],
   "source": [
    "df['Kejadian Banjir'] = 1\n",
    "df.info()"
   ]
  },
  {
   "cell_type": "code",
   "execution_count": 469,
   "metadata": {},
   "outputs": [],
   "source": [
    "df.drop(['Kode Identitas Bencana', 'Penyebab', 'Kabupaten', 'ID Kabupaten', 'Kejadian'], axis=1, inplace=True)"
   ]
  },
  {
   "cell_type": "code",
   "execution_count": 470,
   "metadata": {},
   "outputs": [
    {
     "name": "stdout",
     "output_type": "stream",
     "text": [
      "<class 'pandas.core.frame.DataFrame'>\n",
      "RangeIndex: 6787 entries, 0 to 6786\n",
      "Data columns (total 9 columns):\n",
      " #   Column            Non-Null Count  Dtype  \n",
      "---  ------            --------------  -----  \n",
      " 0   Tanggal Kejadian  6787 non-null   object \n",
      " 1   Provinsi          6787 non-null   object \n",
      " 2   Meninggal         6787 non-null   int64  \n",
      " 3   Hilang            6787 non-null   int64  \n",
      " 4   Terluka           6787 non-null   int64  \n",
      " 5   Rumah Rusak       6786 non-null   float64\n",
      " 6   Rumah Terendam    6787 non-null   int64  \n",
      " 7   Fasum Rusak       6787 non-null   int64  \n",
      " 8   Kejadian Banjir   6787 non-null   int64  \n",
      "dtypes: float64(1), int64(6), object(2)\n",
      "memory usage: 477.3+ KB\n"
     ]
    }
   ],
   "source": [
    "df.info()"
   ]
  },
  {
   "cell_type": "code",
   "execution_count": 471,
   "metadata": {},
   "outputs": [
    {
     "name": "stdout",
     "output_type": "stream",
     "text": [
      "<class 'pandas.core.frame.DataFrame'>\n",
      "RangeIndex: 6787 entries, 0 to 6786\n",
      "Data columns (total 10 columns):\n",
      " #   Column            Non-Null Count  Dtype         \n",
      "---  ------            --------------  -----         \n",
      " 0   Tanggal Kejadian  6787 non-null   datetime64[ns]\n",
      " 1   Provinsi          6787 non-null   object        \n",
      " 2   Meninggal         6787 non-null   int64         \n",
      " 3   Hilang            6787 non-null   int64         \n",
      " 4   Terluka           6787 non-null   int64         \n",
      " 5   Rumah Rusak       6786 non-null   float64       \n",
      " 6   Rumah Terendam    6787 non-null   int64         \n",
      " 7   Fasum Rusak       6787 non-null   int64         \n",
      " 8   Kejadian Banjir   6787 non-null   int64         \n",
      " 9   Tahun             6787 non-null   int64         \n",
      "dtypes: datetime64[ns](1), float64(1), int64(7), object(1)\n",
      "memory usage: 530.4+ KB\n"
     ]
    }
   ],
   "source": [
    "df['Tanggal Kejadian'] = pd.to_datetime(df['Tanggal Kejadian'])\n",
    "df['Tahun'] = df['Tanggal Kejadian'].dt.year\n",
    "df.info()"
   ]
  },
  {
   "cell_type": "code",
   "execution_count": 472,
   "metadata": {},
   "outputs": [],
   "source": [
    "df_grouped = df.groupby(['Tahun', 'Provinsi']).agg({\n",
    "    'Meninggal' : 'sum',\n",
    "    'Hilang' : 'sum',\n",
    "    'Terluka' : 'sum',\n",
    "    'Rumah Rusak' : 'sum',\n",
    "    'Rumah Terendam' : 'sum',\n",
    "    'Fasum Rusak' : 'sum',\n",
    "    'Kejadian Banjir' : 'sum'\n",
    "}).reset_index()"
   ]
  },
  {
   "cell_type": "code",
   "execution_count": 473,
   "metadata": {},
   "outputs": [],
   "source": [
    "df_grouped.to_csv('data_banjir_2.csv', index=False)"
   ]
  },
  {
   "cell_type": "code",
   "execution_count": 474,
   "metadata": {},
   "outputs": [],
   "source": [
    "df2 = pd.read_csv('data_banjir_2.csv')"
   ]
  },
  {
   "cell_type": "code",
   "execution_count": 475,
   "metadata": {},
   "outputs": [
    {
     "name": "stdout",
     "output_type": "stream",
     "text": [
      "<class 'pandas.core.frame.DataFrame'>\n",
      "RangeIndex: 170 entries, 0 to 169\n",
      "Data columns (total 9 columns):\n",
      " #   Column           Non-Null Count  Dtype  \n",
      "---  ------           --------------  -----  \n",
      " 0   Tahun            170 non-null    int64  \n",
      " 1   Provinsi         170 non-null    object \n",
      " 2   Meninggal        170 non-null    int64  \n",
      " 3   Hilang           170 non-null    int64  \n",
      " 4   Terluka          170 non-null    int64  \n",
      " 5   Rumah Rusak      170 non-null    float64\n",
      " 6   Rumah Terendam   170 non-null    int64  \n",
      " 7   Fasum Rusak      170 non-null    int64  \n",
      " 8   Kejadian Banjir  170 non-null    int64  \n",
      "dtypes: float64(1), int64(7), object(1)\n",
      "memory usage: 12.1+ KB\n"
     ]
    }
   ],
   "source": [
    "df2.info()"
   ]
  },
  {
   "cell_type": "code",
   "execution_count": 476,
   "metadata": {},
   "outputs": [
    {
     "name": "stdout",
     "output_type": "stream",
     "text": [
      "<class 'pandas.core.frame.DataFrame'>\n",
      "RangeIndex: 62084 entries, 0 to 62083\n",
      "Data columns (total 6 columns):\n",
      " #   Column                    Non-Null Count  Dtype  \n",
      "---  ------                    --------------  -----  \n",
      " 0   Unnamed: 0                62084 non-null  int64  \n",
      " 1   time                      62084 non-null  object \n",
      " 2   weathercode (wmo code)    62084 non-null  int64  \n",
      " 3   temperature_2m_mean (°C)  62084 non-null  float64\n",
      " 4   rain_sum (mm)             62084 non-null  float64\n",
      " 5   Province                  62084 non-null  object \n",
      "dtypes: float64(2), int64(2), object(2)\n",
      "memory usage: 2.8+ MB\n"
     ]
    }
   ],
   "source": [
    "df1.info()"
   ]
  },
  {
   "cell_type": "code",
   "execution_count": 477,
   "metadata": {},
   "outputs": [
    {
     "name": "stdout",
     "output_type": "stream",
     "text": [
      "<class 'pandas.core.frame.DataFrame'>\n",
      "RangeIndex: 62084 entries, 0 to 62083\n",
      "Data columns (total 5 columns):\n",
      " #   Column                    Non-Null Count  Dtype  \n",
      "---  ------                    --------------  -----  \n",
      " 0   Unnamed: 0                62084 non-null  int64  \n",
      " 1   time                      62084 non-null  object \n",
      " 2   temperature_2m_mean (°C)  62084 non-null  float64\n",
      " 3   rain_sum (mm)             62084 non-null  float64\n",
      " 4   Province                  62084 non-null  object \n",
      "dtypes: float64(2), int64(1), object(2)\n",
      "memory usage: 2.4+ MB\n"
     ]
    }
   ],
   "source": [
    "df1.drop(['weathercode (wmo code)'], axis=1, inplace=True)\n",
    "df1.info()"
   ]
  },
  {
   "cell_type": "code",
   "execution_count": 478,
   "metadata": {},
   "outputs": [],
   "source": [
    "df1['time'] = pd.to_datetime(df1['time'])\n",
    "df1['Tahun'] = df1['time'].dt.year"
   ]
  },
  {
   "cell_type": "code",
   "execution_count": 479,
   "metadata": {},
   "outputs": [],
   "source": [
    "df1_grouped = df1.groupby(['Tahun', 'Province']).agg({\n",
    "    'temperature_2m_mean (°C)' : 'mean',\n",
    "    'rain_sum (mm)' : 'mean'\n",
    "}).reset_index()"
   ]
  },
  {
   "cell_type": "code",
   "execution_count": 480,
   "metadata": {},
   "outputs": [],
   "source": [
    "df1_grouped.to_csv('weather_2.csv', index=False)"
   ]
  },
  {
   "cell_type": "code",
   "execution_count": 481,
   "metadata": {},
   "outputs": [
    {
     "name": "stdout",
     "output_type": "stream",
     "text": [
      "<class 'pandas.core.frame.DataFrame'>\n",
      "RangeIndex: 170 entries, 0 to 169\n",
      "Data columns (total 9 columns):\n",
      " #   Column           Non-Null Count  Dtype  \n",
      "---  ------           --------------  -----  \n",
      " 0   Tahun            170 non-null    int64  \n",
      " 1   Provinsi         170 non-null    object \n",
      " 2   Meninggal        170 non-null    int64  \n",
      " 3   Hilang           170 non-null    int64  \n",
      " 4   Terluka          170 non-null    int64  \n",
      " 5   Rumah Rusak      170 non-null    float64\n",
      " 6   Rumah Terendam   170 non-null    int64  \n",
      " 7   Fasum Rusak      170 non-null    int64  \n",
      " 8   Kejadian Banjir  170 non-null    int64  \n",
      "dtypes: float64(1), int64(7), object(1)\n",
      "memory usage: 12.1+ KB\n",
      "<class 'pandas.core.frame.DataFrame'>\n",
      "RangeIndex: 170 entries, 0 to 169\n",
      "Data columns (total 4 columns):\n",
      " #   Column                    Non-Null Count  Dtype  \n",
      "---  ------                    --------------  -----  \n",
      " 0   Tahun                     170 non-null    int64  \n",
      " 1   Province                  170 non-null    object \n",
      " 2   temperature_2m_mean (°C)  170 non-null    float64\n",
      " 3   rain_sum (mm)             170 non-null    float64\n",
      "dtypes: float64(2), int64(1), object(1)\n",
      "memory usage: 5.4+ KB\n"
     ]
    }
   ],
   "source": [
    "df = pd.read_csv('data_banjir_2.csv')\n",
    "df1 = pd.read_csv('weather_2.csv')\n",
    "df.info()\n",
    "df1.info()"
   ]
  },
  {
   "cell_type": "code",
   "execution_count": 482,
   "metadata": {},
   "outputs": [],
   "source": [
    "merged = pd.merge(df1, df, right_on=['Tahun', 'Provinsi'], left_on=['Tahun', 'Province'], how='left')\n",
    "merged.drop(['Provinsi'], axis=1, inplace=True)\n",
    "\n",
    "columns_zero = ['Meninggal', 'Hilang', 'Terluka', 'Rumah Rusak', 'Rumah Terendam', 'Fasum Rusak', 'Kejadian Banjir']\n",
    "for column in columns_zero:\n",
    "    merged[column] = merged[column].fillna(0)\n",
    "\n",
    "#ganti tipe\n",
    "columns_int = ['Meninggal', 'Hilang', 'Terluka', 'Rumah Rusak', 'Rumah Terendam', 'Fasum Rusak', 'Kejadian Banjir']\n",
    "merged[columns_int] = merged[columns_int].astype(int)\n",
    "\n",
    "\n",
    "merged.to_csv('data_banjir_laste.csv', index=False)"
   ]
  },
  {
   "cell_type": "code",
   "execution_count": 483,
   "metadata": {},
   "outputs": [
    {
     "name": "stdout",
     "output_type": "stream",
     "text": [
      "<class 'pandas.core.frame.DataFrame'>\n",
      "RangeIndex: 170 entries, 0 to 169\n",
      "Data columns (total 11 columns):\n",
      " #   Column                    Non-Null Count  Dtype  \n",
      "---  ------                    --------------  -----  \n",
      " 0   Tahun                     170 non-null    int64  \n",
      " 1   Province                  170 non-null    object \n",
      " 2   temperature_2m_mean (°C)  170 non-null    float64\n",
      " 3   rain_sum (mm)             170 non-null    float64\n",
      " 4   Meninggal                 170 non-null    int64  \n",
      " 5   Hilang                    170 non-null    int64  \n",
      " 6   Terluka                   170 non-null    int64  \n",
      " 7   Rumah Rusak               170 non-null    int64  \n",
      " 8   Rumah Terendam            170 non-null    int64  \n",
      " 9   Fasum Rusak               170 non-null    int64  \n",
      " 10  Kejadian Banjir           170 non-null    int64  \n",
      "dtypes: float64(2), int64(8), object(1)\n",
      "memory usage: 14.7+ KB\n"
     ]
    }
   ],
   "source": [
    "df = pd.read_csv('data_banjir_laste.csv')\n",
    "df.info()"
   ]
  },
  {
   "cell_type": "code",
   "execution_count": 484,
   "metadata": {},
   "outputs": [
    {
     "name": "stdout",
     "output_type": "stream",
     "text": [
      "Empty DataFrame\n",
      "Columns: [Tahun, Province, temperature_2m_mean (°C), rain_sum (mm), Meninggal, Hilang, Terluka, Rumah Rusak, Rumah Terendam, Fasum Rusak, Kejadian Banjir]\n",
      "Index: []\n"
     ]
    }
   ],
   "source": [
    "data_null = df[df['Province'].isnull()]\n",
    "print(data_null)"
   ]
  },
  {
   "cell_type": "code",
   "execution_count": 485,
   "metadata": {},
   "outputs": [
    {
     "name": "stdout",
     "output_type": "stream",
     "text": [
      "6787\n"
     ]
    }
   ],
   "source": [
    "total = df['Kejadian Banjir'].sum()\n",
    "print(total)"
   ]
  },
  {
   "cell_type": "code",
   "execution_count": 33,
   "metadata": {},
   "outputs": [
    {
     "name": "stdout",
     "output_type": "stream",
     "text": [
      "<class 'pandas.core.frame.DataFrame'>\n",
      "RangeIndex: 6787 entries, 0 to 6786\n",
      "Data columns (total 14 columns):\n",
      " #   Column                  Non-Null Count  Dtype  \n",
      "---  ------                  --------------  -----  \n",
      " 0   Kode Identitas Bencana  5998 non-null   object \n",
      " 1   ID Kabupaten            6787 non-null   int64  \n",
      " 2   Tanggal Kejadian        6787 non-null   object \n",
      " 3   Kejadian                6787 non-null   object \n",
      " 4   Kabupaten               6787 non-null   object \n",
      " 5   Provinsi                6787 non-null   object \n",
      " 6   Penyebab                6787 non-null   object \n",
      " 7   Meninggal               6787 non-null   int64  \n",
      " 8   Hilang                  6787 non-null   int64  \n",
      " 9   Terluka                 6787 non-null   int64  \n",
      " 10  Rumah Rusak             6786 non-null   float64\n",
      " 11  Rumah Terendam          6787 non-null   int64  \n",
      " 12  Fasum Rusak             6787 non-null   int64  \n",
      " 13  Kejadian Banjir         6787 non-null   int64  \n",
      "dtypes: float64(1), int64(7), object(6)\n",
      "memory usage: 742.5+ KB\n"
     ]
    }
   ],
   "source": [
    "df = pd.read_csv('cleaned_dataset\\data_banjir.csv')\n",
    "df['Kejadian Banjir'] = 1\n",
    "df.info()"
   ]
  },
  {
   "cell_type": "code",
   "execution_count": 34,
   "metadata": {},
   "outputs": [
    {
     "name": "stdout",
     "output_type": "stream",
     "text": [
      "<class 'pandas.core.frame.DataFrame'>\n",
      "Int64Index: 917 entries, 26 to 6781\n",
      "Data columns (total 14 columns):\n",
      " #   Column                  Non-Null Count  Dtype  \n",
      "---  ------                  --------------  -----  \n",
      " 0   Kode Identitas Bencana  807 non-null    object \n",
      " 1   ID Kabupaten            917 non-null    int64  \n",
      " 2   Tanggal Kejadian        917 non-null    object \n",
      " 3   Kejadian                917 non-null    object \n",
      " 4   Kabupaten               917 non-null    object \n",
      " 5   Provinsi                917 non-null    object \n",
      " 6   Penyebab                917 non-null    object \n",
      " 7   Meninggal               917 non-null    int64  \n",
      " 8   Hilang                  917 non-null    int64  \n",
      " 9   Terluka                 917 non-null    int64  \n",
      " 10  Rumah Rusak             917 non-null    float64\n",
      " 11  Rumah Terendam          917 non-null    int64  \n",
      " 12  Fasum Rusak             917 non-null    int64  \n",
      " 13  Kejadian Banjir         917 non-null    int64  \n",
      "dtypes: float64(1), int64(7), object(6)\n",
      "memory usage: 107.5+ KB\n"
     ]
    }
   ],
   "source": [
    "# ambiljabar\n",
    "df = df[df['Provinsi'] == 'Jawa Barat']\n",
    "df.info()"
   ]
  },
  {
   "cell_type": "code",
   "execution_count": 35,
   "metadata": {},
   "outputs": [
    {
     "name": "stdout",
     "output_type": "stream",
     "text": [
      "<class 'pandas.core.frame.DataFrame'>\n",
      "Int64Index: 917 entries, 26 to 6781\n",
      "Data columns (total 8 columns):\n",
      " #   Column           Non-Null Count  Dtype  \n",
      "---  ------           --------------  -----  \n",
      " 0   Kabupaten        917 non-null    object \n",
      " 1   Meninggal        917 non-null    int64  \n",
      " 2   Hilang           917 non-null    int64  \n",
      " 3   Terluka          917 non-null    int64  \n",
      " 4   Rumah Rusak      917 non-null    float64\n",
      " 5   Rumah Terendam   917 non-null    int64  \n",
      " 6   Fasum Rusak      917 non-null    int64  \n",
      " 7   Kejadian Banjir  917 non-null    int64  \n",
      "dtypes: float64(1), int64(6), object(1)\n",
      "memory usage: 64.5+ KB\n"
     ]
    }
   ],
   "source": [
    "df.drop(['Kode Identitas Bencana', 'Penyebab', 'ID Kabupaten', 'Provinsi', 'Tanggal Kejadian', 'Kejadian'], axis=1, inplace=True)\n",
    "# df['Tanggal Kejadian'] = pd.to_datetime(df['Tanggal Kejadian'])\n",
    "# df['Tahun'] = df['Tanggal Kejadian'].dt.year\n",
    "df.info()"
   ]
  },
  {
   "cell_type": "code",
   "execution_count": 36,
   "metadata": {},
   "outputs": [],
   "source": [
    "df_grouped = df.groupby(['Kabupaten']).agg({\n",
    "    'Meninggal' : 'sum',\n",
    "    'Hilang' : 'sum',\n",
    "    'Terluka' : 'sum',\n",
    "    'Rumah Rusak' : 'sum',\n",
    "    'Rumah Terendam' : 'sum',\n",
    "    'Fasum Rusak' : 'sum',\n",
    "    'Kejadian Banjir' : 'sum'\n",
    "}).reset_index()"
   ]
  },
  {
   "cell_type": "code",
   "execution_count": 39,
   "metadata": {},
   "outputs": [
    {
     "data": {
      "text/html": [
       "<div>\n",
       "<style scoped>\n",
       "    .dataframe tbody tr th:only-of-type {\n",
       "        vertical-align: middle;\n",
       "    }\n",
       "\n",
       "    .dataframe tbody tr th {\n",
       "        vertical-align: top;\n",
       "    }\n",
       "\n",
       "    .dataframe thead th {\n",
       "        text-align: right;\n",
       "    }\n",
       "</style>\n",
       "<table border=\"1\" class=\"dataframe\">\n",
       "  <thead>\n",
       "    <tr style=\"text-align: right;\">\n",
       "      <th></th>\n",
       "      <th>Kabupaten</th>\n",
       "      <th>Meninggal</th>\n",
       "      <th>Hilang</th>\n",
       "      <th>Terluka</th>\n",
       "      <th>Rumah Rusak</th>\n",
       "      <th>Rumah Terendam</th>\n",
       "      <th>Fasum Rusak</th>\n",
       "      <th>Kejadian Banjir</th>\n",
       "    </tr>\n",
       "  </thead>\n",
       "  <tbody>\n",
       "    <tr>\n",
       "      <th>3</th>\n",
       "      <td>BOGOR</td>\n",
       "      <td>17</td>\n",
       "      <td>1</td>\n",
       "      <td>12</td>\n",
       "      <td>3127.0</td>\n",
       "      <td>33621</td>\n",
       "      <td>153</td>\n",
       "      <td>179</td>\n",
       "    </tr>\n",
       "  </tbody>\n",
       "</table>\n",
       "</div>"
      ],
      "text/plain": [
       "  Kabupaten  Meninggal  Hilang  Terluka  Rumah Rusak  Rumah Terendam  \\\n",
       "3     BOGOR         17       1       12       3127.0           33621   \n",
       "\n",
       "   Fasum Rusak  Kejadian Banjir  \n",
       "3          153              179  "
      ]
     },
     "execution_count": 39,
     "metadata": {},
     "output_type": "execute_result"
    }
   ],
   "source": [
    "df_grouped = df_grouped[df_grouped['Kejadian Banjir'] == df_grouped['Kejadian Banjir'].max()]\n",
    "df_grouped"
   ]
  },
  {
   "cell_type": "code",
   "execution_count": null,
   "metadata": {},
   "outputs": [],
   "source": [
    "# Kabupaten bogor : 179 kejadian, 2710 km2\n",
    "# Provinsi jakarta : 127 kejadian, 661,5 km2\n",
    "# luas wilayah bogor lebih besar 4 kali lipat\n",
    "# perbandingan kejadian bogor dan jakarta hanya 1,4 kali lipat"
   ]
  }
 ],
 "metadata": {
  "kernelspec": {
   "display_name": "Python 3",
   "language": "python",
   "name": "python3"
  },
  "language_info": {
   "codemirror_mode": {
    "name": "ipython",
    "version": 3
   },
   "file_extension": ".py",
   "mimetype": "text/x-python",
   "name": "python",
   "nbconvert_exporter": "python",
   "pygments_lexer": "ipython3",
   "version": "3.9.13"
  },
  "orig_nbformat": 4
 },
 "nbformat": 4,
 "nbformat_minor": 2
}
